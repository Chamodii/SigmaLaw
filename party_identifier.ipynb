{
  "nbformat": 4,
  "nbformat_minor": 0,
  "metadata": {
    "colab": {
      "name": "party_identifier.ipynb",
      "provenance": [],
      "collapsed_sections": [],
      "include_colab_link": true
    },
    "kernelspec": {
      "name": "python3",
      "display_name": "Python 3"
    }
  },
  "cells": [
    {
      "cell_type": "markdown",
      "metadata": {
        "id": "view-in-github",
        "colab_type": "text"
      },
      "source": [
        "<a href=\"https://colab.research.google.com/github/Chamodii/SigmaLaw/blob/party_probability/party_identifier.ipynb\" target=\"_parent\"><img src=\"https://colab.research.google.com/assets/colab-badge.svg\" alt=\"Open In Colab\"/></a>"
      ]
    },
    {
      "cell_type": "code",
      "metadata": {
        "id": "RuV4035yWikM",
        "colab_type": "code",
        "outputId": "f2bb56fe-3398-4bab-8dde-880237fd4381",
        "colab": {
          "base_uri": "https://localhost:8080/",
          "height": 124
        }
      },
      "source": [
        "from google.colab import drive\n",
        "drive.mount('/content/drive', force_remount=True)"
      ],
      "execution_count": 0,
      "outputs": [
        {
          "output_type": "stream",
          "text": [
            "Go to this URL in a browser: https://accounts.google.com/o/oauth2/auth?client_id=947318989803-6bn6qk8qdgf4n4g3pfee6491hc0brc4i.apps.googleusercontent.com&redirect_uri=urn%3aietf%3awg%3aoauth%3a2.0%3aoob&response_type=code&scope=email%20https%3a%2f%2fwww.googleapis.com%2fauth%2fdocs.test%20https%3a%2f%2fwww.googleapis.com%2fauth%2fdrive%20https%3a%2f%2fwww.googleapis.com%2fauth%2fdrive.photos.readonly%20https%3a%2f%2fwww.googleapis.com%2fauth%2fpeopleapi.readonly\n",
            "\n",
            "Enter your authorization code:\n",
            "··········\n",
            "Mounted at /content/drive\n"
          ],
          "name": "stdout"
        }
      ]
    },
    {
      "cell_type": "code",
      "metadata": {
        "id": "ElaKXjEBXwGo",
        "colab_type": "code",
        "outputId": "4951a07b-51b1-43a6-a268-2177024cbf28",
        "colab": {
          "base_uri": "https://localhost:8080/",
          "height": 139
        }
      },
      "source": [
        "!pip install stanfordcorenlp"
      ],
      "execution_count": 0,
      "outputs": [
        {
          "output_type": "stream",
          "text": [
            "Requirement already satisfied: stanfordcorenlp in /usr/local/lib/python3.6/dist-packages (3.9.1.1)\n",
            "Requirement already satisfied: psutil in /usr/local/lib/python3.6/dist-packages (from stanfordcorenlp) (5.4.8)\n",
            "Requirement already satisfied: requests in /usr/local/lib/python3.6/dist-packages (from stanfordcorenlp) (2.21.0)\n",
            "Requirement already satisfied: idna<2.9,>=2.5 in /usr/local/lib/python3.6/dist-packages (from requests->stanfordcorenlp) (2.8)\n",
            "Requirement already satisfied: certifi>=2017.4.17 in /usr/local/lib/python3.6/dist-packages (from requests->stanfordcorenlp) (2019.11.28)\n",
            "Requirement already satisfied: urllib3<1.25,>=1.21.1 in /usr/local/lib/python3.6/dist-packages (from requests->stanfordcorenlp) (1.24.3)\n",
            "Requirement already satisfied: chardet<3.1.0,>=3.0.2 in /usr/local/lib/python3.6/dist-packages (from requests->stanfordcorenlp) (3.0.4)\n"
          ],
          "name": "stdout"
        }
      ]
    },
    {
      "cell_type": "code",
      "metadata": {
        "id": "7yaYhVfVW1J6",
        "colab_type": "code",
        "colab": {}
      },
      "source": [
        "import json\n",
        "from stanfordcorenlp import StanfordCoreNLP\n",
        "\n",
        "nlp = StanfordCoreNLP(r'/content/drive/Shared drives/SigmaLaw/stanford-corenlp-full-2018-10-05', quiet=False)\n",
        "props = {'annotators': 'tokenize, ssplit, pos, lemma, parse, ner, coref, kbp, depparse', 'pipelineLanguage': 'en'}\n"
      ],
      "execution_count": 0,
      "outputs": []
    },
    {
      "cell_type": "code",
      "metadata": {
        "id": "wp7azd91XqJ2",
        "colab_type": "code",
        "colab": {}
      },
      "source": [
        "def potential_party(a):\n",
        "    return a+1\n",
        "\n",
        "\n",
        "def subject_check(parties, sentences):\n",
        "    for each in sentences:\n",
        "      print(each.get('kbp'))\n",
        "      if len(each.get('kbp')) > 0:\n",
        "        for i in parties:\n",
        "          if each.get('kbp')[0].get('subject') == i:\n",
        "            parties[i] = potential_party(parties[i])\n",
        "\n",
        "    print(\"After subject_check: \", parties)\n",
        "    return parties\n",
        "\n",
        "def build_complete_ner(word, ner, l):\n",
        "  if(l[0].get('ner') == ner):\n",
        "    word = word + \" \" + build_complete_ner(l[0].get(\"word\"), l[0].get('ner'), l[1:len(l)])\n",
        "  #print(\"built\" + word)\n",
        "  return word\n",
        "\n",
        "# To update parties based on ner\n",
        "def NER(parties, sentences):\n",
        "    # props = {'annotators': 'ner', 'pipelineLanguage': 'en'}\n",
        "    # result = json.loads(nlp.annotate(text, properties=props))\n",
        "    # r = result['sentences']\n",
        "\n",
        "    ner = []\n",
        "    value = []\n",
        "    for each in sentences:\n",
        "      q = each.get(\"tokens\")\n",
        "    #print(q)\n",
        "\n",
        "      for j in range(0,len(q)):\n",
        "        if(q[j].get(\"ner\") == \"PERSON\" or q[j].get(\"ner\") == \"ORGANIZATION\"):\n",
        "          #print(\"test \" + q[j].get(\"word\"))\n",
        "          word = build_complete_ner(q[j].get(\"word\"), q[j].get(\"ner\"), q[j+1 : len(q)])\n",
        "        # print(\"final\"+word)\n",
        "          if(j==0):\n",
        "            ner.append(word)\n",
        "          if(j!=0 and q[j-1].get(\"ner\") != q[j].get(\"ner\")):\n",
        "            ner.append(word)\n",
        "            value.append(q[j].get(\"ner\"))\n",
        "\n",
        "    delete = []\n",
        "\n",
        "    for j in parties:\n",
        "      party_value = False\n",
        "      for each in ner:\n",
        "        if each in j:\n",
        "          party_value = True\n",
        "      if party_value == False:\n",
        "        delete.append(j)\n",
        "\n",
        "\n",
        "\n",
        "\n",
        "\n",
        "\n",
        "    # for j in parties:\n",
        "    #     if j in ner:\n",
        "    #         parties[j] = potential_party(parties[j])\n",
        "    #     else:\n",
        "    #       delete.append(j)\n",
        "\n",
        "# Removing parties that are not PERSON or ORGANIZATION\n",
        "    for key in delete:\n",
        "      del parties[key]\n",
        "    \n",
        "\n",
        "    if(len(parties)>0):\n",
        "      maximum = max(parties.values())\n",
        "      if(maximum>0):\n",
        "        for j in parties:\n",
        "          parties[j] = parties[j]/maximum\n",
        "\n",
        "    print(\"After NER check: \", parties)\n",
        "\n",
        "    return parties"
      ],
      "execution_count": 0,
      "outputs": []
    },
    {
      "cell_type": "code",
      "metadata": {
        "id": "mijiUraeKD1m",
        "colab_type": "code",
        "colab": {}
      },
      "source": [
        "def subject_coref(parties, sentences):\n",
        "  for each in sentences:\n",
        "    #print(each)\n",
        "    q = each.get(\"basicDependencies\")\n",
        "    #print(q)\n",
        "    for j in q:\n",
        "      ##dependent is sort of like the index, starts from 1 not 0\n",
        "      if (j.get(\"dep\") == \"nsubj\"):\n",
        "        #print(j.get(\"dependentGloss\")+\" : \"+str(j.get(\"dependent\")))\n",
        "        for each in corefs.values():\n",
        "          for i in each:\n",
        "            if(i.get('startIndex') <= j.get(\"dependent\") and j.get(\"dependent\") <= i.get('endIndex')):\n",
        "              parties[each[0].get('text')] = potential_party(parties[each[0].get('text')])\n",
        "  return parties"
      ],
      "execution_count": 0,
      "outputs": []
    },
    {
      "cell_type": "code",
      "metadata": {
        "id": "68Uf662OideP",
        "colab_type": "code",
        "colab": {}
      },
      "source": [
        "def remove_non_ascii_1(text):\n",
        "  return ''.join(i for i in text if ord(i)<128)"
      ],
      "execution_count": 0,
      "outputs": []
    },
    {
      "cell_type": "code",
      "metadata": {
        "id": "wDJAe7jdnr1H",
        "colab_type": "code",
        "outputId": "5185c773-ddbb-4bec-899a-1c324e300177",
        "colab": {
          "base_uri": "https://localhost:8080/",
          "height": 54
        }
      },
      "source": [
        "f = open(\"/content/drive/Shared drives/SigmaLaw/data_2/54111.txt\", \"rb\")\n",
        "text = f.read()\n",
        "print(text)"
      ],
      "execution_count": 0,
      "outputs": [
        {
          "output_type": "stream",
          "text": [
            "b'Donaghy began his career as an NBA referee in September 1994 and continued in that position for thirteen seasons.  Battista agreed to pay Donaghy a fee for each game in which Donaghy correctly picked the winner. \\xe2\\x80\\x82 Donaghy provided the picks to Martino, Martino relayed the information to Battista, and Battista placed the bets. \\n'\n"
          ],
          "name": "stdout"
        }
      ]
    },
    {
      "cell_type": "code",
      "metadata": {
        "id": "7PUtZpI8tXf8",
        "colab_type": "code",
        "outputId": "7ce8e6bd-be9f-43d6-bddf-a372a139cbba",
        "colab": {
          "base_uri": "https://localhost:8080/",
          "height": 72
        }
      },
      "source": [
        "stringText = text.decode(errors='replace')\n",
        "print(stringText)\n",
        "new_text = remove_non_ascii_1(stringText)"
      ],
      "execution_count": 0,
      "outputs": [
        {
          "output_type": "stream",
          "text": [
            "Donaghy began his career as an NBA referee in September 1994 and continued in that position for thirteen seasons.  Battista agreed to pay Donaghy a fee for each game in which Donaghy correctly picked the winner.   Donaghy provided the picks to Martino, Martino relayed the information to Battista, and Battista placed the bets. \n",
            "\n"
          ],
          "name": "stdout"
        }
      ]
    },
    {
      "cell_type": "code",
      "metadata": {
        "id": "DSFLTJ1gjr_a",
        "colab_type": "code",
        "outputId": "beeee19d-7ee0-4505-fbd4-d70ba871d958",
        "colab": {
          "base_uri": "https://localhost:8080/",
          "height": 72
        }
      },
      "source": [
        "print(new_text)"
      ],
      "execution_count": 0,
      "outputs": [
        {
          "output_type": "stream",
          "text": [
            "In 1983, Brenda Marsh's two-year-old son, Phillip Buell, died from a severe head injury while in the care of her then-boyfriend, Kenneth Marsh. Charged with Phillip's death, Marsh claimed that Phillip was injured when he fell off the couch and landed on the fireplace hearth. Marsh was convicted of second-degree murder and imprisoned. Almost two decades later, he filed a second habeas petition, which the San Diego County Superior Court granted at the request of the San Diego District Attorney.\n",
            "\n"
          ],
          "name": "stdout"
        }
      ]
    },
    {
      "cell_type": "code",
      "metadata": {
        "id": "LODMUZV3o1Yt",
        "colab_type": "code",
        "colab": {}
      },
      "source": [
        "p = nlp.annotate(new_text, properties=props)"
      ],
      "execution_count": 0,
      "outputs": []
    },
    {
      "cell_type": "code",
      "metadata": {
        "id": "qGyyn4H8M1_O",
        "colab_type": "code",
        "colab": {}
      },
      "source": [
        "result = json.loads(p)\n",
        "\n",
        "sentences = result['sentences']"
      ],
      "execution_count": 0,
      "outputs": []
    },
    {
      "cell_type": "code",
      "metadata": {
        "id": "nkhqpSQF7yxU",
        "colab_type": "code",
        "colab": {}
      },
      "source": [
        "print(p)"
      ],
      "execution_count": 0,
      "outputs": []
    },
    {
      "cell_type": "code",
      "metadata": {
        "id": "IbHMIfRMZKlt",
        "colab_type": "code",
        "outputId": "ca927a65-e76d-4d4e-f6af-50dd03674fd5",
        "colab": {
          "base_uri": "https://localhost:8080/",
          "height": 89
        }
      },
      "source": [
        "# Coref clusters\n",
        "corefs = result['corefs']\n",
        "\n",
        "print(\"corefs: \", corefs)\n",
        "\n",
        "# Calculate rough values for party_probability\n",
        "parties = {}\n",
        "init_value = 0.0\n",
        "for each in corefs.values():\n",
        "  #print(each)\n",
        "  parties[each[0].get('text')] = init_value\n",
        "\n",
        "print(parties)\n",
        "# Update probability if identified as a subject.\n",
        "#parties = subject_check(parties, sentences)\n",
        "parties = subject_coref(parties, sentences)\n",
        "\n",
        "# Update probability with NER.\n",
        "parties = NER(parties, sentences)\n",
        "\n",
        "#print(parties)"
      ],
      "execution_count": 0,
      "outputs": [
        {
          "output_type": "stream",
          "text": [
            "corefs:  {'17': [{'id': 9, 'text': 'Battista', 'type': 'PROPER', 'number': 'SINGULAR', 'gender': 'MALE', 'animacy': 'ANIMATE', 'startIndex': 1, 'endIndex': 2, 'headIndex': 1, 'sentNum': 2, 'position': [2, 1], 'isRepresentativeMention': True}, {'id': 17, 'text': 'Battista', 'type': 'PROPER', 'number': 'SINGULAR', 'gender': 'MALE', 'animacy': 'ANIMATE', 'startIndex': 16, 'endIndex': 17, 'headIndex': 16, 'sentNum': 3, 'position': [3, 3], 'isRepresentativeMention': False}], '4': [{'id': 0, 'text': 'Donaghy', 'type': 'PROPER', 'number': 'SINGULAR', 'gender': 'MALE', 'animacy': 'ANIMATE', 'startIndex': 1, 'endIndex': 2, 'headIndex': 1, 'sentNum': 1, 'position': [1, 1], 'isRepresentativeMention': True}, {'id': 4, 'text': 'his', 'type': 'PRONOMINAL', 'number': 'SINGULAR', 'gender': 'MALE', 'animacy': 'ANIMATE', 'startIndex': 3, 'endIndex': 4, 'headIndex': 3, 'sentNum': 1, 'position': [1, 5], 'isRepresentativeMention': False}, {'id': 10, 'text': 'Donaghy', 'type': 'PROPER', 'number': 'SINGULAR', 'gender': 'MALE', 'animacy': 'ANIMATE', 'startIndex': 5, 'endIndex': 6, 'headIndex': 5, 'sentNum': 2, 'position': [2, 2], 'isRepresentativeMention': False}, {'id': 11, 'text': 'Donaghy', 'type': 'PROPER', 'number': 'SINGULAR', 'gender': 'MALE', 'animacy': 'ANIMATE', 'startIndex': 13, 'endIndex': 14, 'headIndex': 13, 'sentNum': 2, 'position': [2, 3], 'isRepresentativeMention': False}, {'id': 15, 'text': 'Donaghy', 'type': 'PROPER', 'number': 'SINGULAR', 'gender': 'MALE', 'animacy': 'ANIMATE', 'startIndex': 1, 'endIndex': 2, 'headIndex': 1, 'sentNum': 3, 'position': [3, 1], 'isRepresentativeMention': False}]}\n",
            "{'Battista': 0.0, 'Donaghy': 0.0}\n",
            "After NER check:  {'Battista': 0.42857142857142855, 'Donaghy': 1.0}\n"
          ],
          "name": "stdout"
        }
      ]
    },
    {
      "cell_type": "code",
      "metadata": {
        "id": "y0w3mmi3NfFP",
        "colab_type": "code",
        "outputId": "f1380074-abbf-400f-dd5e-b7f47e4d3c5c",
        "colab": {
          "base_uri": "https://localhost:8080/",
          "height": 34
        }
      },
      "source": [
        ""
      ],
      "execution_count": 0,
      "outputs": [
        {
          "output_type": "stream",
          "text": [
            "2\n"
          ],
          "name": "stdout"
        }
      ]
    }
  ]
}
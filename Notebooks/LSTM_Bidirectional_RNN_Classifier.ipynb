{
  "nbformat": 4,
  "nbformat_minor": 0,
  "metadata": {
    "colab": {
      "name": "Copy of 1000_LSTM_Bidirectional_RNN_Classifier.ipynb",
      "provenance": [],
      "collapsed_sections": []
    },
    "kernelspec": {
      "display_name": "Python 3",
      "name": "python3"
    }
  },
  "cells": [
    {
      "cell_type": "code",
      "metadata": {
        "id": "WTfLx_7U-Hey",
        "colab": {
          "base_uri": "https://localhost:8080/"
        },
        "outputId": "cc5468af-3c44-4260-e566-99c2d88d7447"
      },
      "source": [
        "from google.colab import drive\n",
        "drive.mount('/content/drive', force_remount=True)"
      ],
      "execution_count": null,
      "outputs": [
        {
          "output_type": "stream",
          "text": [
            "Mounted at /content/drive\n"
          ],
          "name": "stdout"
        }
      ]
    },
    {
      "cell_type": "code",
      "metadata": {
        "id": "w6gY7G5p-gJY"
      },
      "source": [
        "from pathlib import Path\n",
        "\n",
        "data_path = Path.cwd().parent / \"content\" / \"drive\" / \"Shared drives\" / \"SigmaLaw\" / \"classifier\" / \"data\""
      ],
      "execution_count": null,
      "outputs": []
    },
    {
      "cell_type": "code",
      "metadata": {
        "id": "Rl2x8fW4-i_0"
      },
      "source": [
        "from random import randint\n",
        "import numpy as np\n",
        "from numpy import array\n",
        "from numpy import argmax\n",
        "from numpy import array_equal\n",
        "from keras import Sequential\n",
        "from keras.models import Model, load_model\n",
        "from keras.layers import Input, LSTM, Dense, Maximum, LayerNormalization, Bidirectional, GRU\n",
        "from keras.utils import *\n",
        "from keras.initializers import *\n",
        "import tensorflow as tf\n",
        "import time, random"
      ],
      "execution_count": null,
      "outputs": []
    },
    {
      "cell_type": "code",
      "metadata": {
        "id": "Bg5y3dlMCbkL"
      },
      "source": [
        "m=900\n",
        "m1=810\n",
        "batch_size = 1000\n",
        "latent_dim =512\n",
        "num_samples = 10\n"
      ],
      "execution_count": null,
      "outputs": []
    },
    {
      "cell_type": "code",
      "metadata": {
        "id": "SzoLV7pwDUOu",
        "colab": {
          "base_uri": "https://localhost:8080/"
        },
        "outputId": "e4a6d248-6243-4d62-8dc9-e2e0e8d15642"
      },
      "source": [
        "import numpy as np\n",
        "X = np.load(data_path/ \"numpy_files\"/ 'data_1000.npy')\n",
        "Y = np.load(data_path/ \"numpy_files\"/ 'label_1000.npy')\n",
        "print(Y.shape)\n"
      ],
      "execution_count": null,
      "outputs": [
        {
          "output_type": "stream",
          "text": [
            "(1000, 443, 2)\n"
          ],
          "name": "stdout"
        }
      ]
    },
    {
      "cell_type": "code",
      "metadata": {
        "id": "FPPksiWv7MWe"
      },
      "source": [
        "t=443\n",
        "X_train = X[0:m,:,:]\n",
        "X_test = X[m:batch_size,:,:]\n",
        "\n",
        "y = Y.reshape(batch_size,t, 2)\n",
        "y_train = y[0:m,:,:]\n",
        "y_test = y[m:batch_size,:,:]\n",
        "\n"
      ],
      "execution_count": null,
      "outputs": []
    },
    {
      "cell_type": "code",
      "metadata": {
        "id": "QQtUVG1SaA2W",
        "colab": {
          "base_uri": "https://localhost:8080/"
        },
        "outputId": "2e0a8b37-5921-494f-ef36-365e273320f9"
      },
      "source": [
        "print(X_train.shape)\n",
        "print(y_train.shape)\n",
        "\n",
        "print(X_test.shape)\n",
        "print(y_test.shape)\n",
        "\n"
      ],
      "execution_count": null,
      "outputs": [
        {
          "output_type": "stream",
          "text": [
            "(900, 443, 301)\n",
            "(900, 443, 2)\n",
            "(100, 443, 301)\n",
            "(100, 443, 2)\n"
          ],
          "name": "stdout"
        }
      ]
    },
    {
      "cell_type": "code",
      "metadata": {
        "id": "J0_M83jcBiJs"
      },
      "source": [
        "num_encoder_tokens=301\n",
        "num_decoder_tokens=2\n",
        "\n",
        "\n"
      ],
      "execution_count": null,
      "outputs": []
    },
    {
      "cell_type": "code",
      "metadata": {
        "id": "93N3Z-zyyzRT"
      },
      "source": [
        "model = Sequential()\n",
        "model.add(Bidirectional(LSTM(latent_dim, input_shape=(t, num_encoder_tokens), return_sequences=True)))\n",
        "model.add(Dense(num_decoder_tokens, activation='sigmoid'))\n",
        "model.compile(loss='binary_crossentropy', optimizer='adam', \n",
        "    metrics=[tf.keras.metrics.RecallAtPrecision(precision=0.7)])"
      ],
      "execution_count": null,
      "outputs": []
    },
    {
      "cell_type": "code",
      "metadata": {
        "id": "l6ZM8HBbCPwu",
        "colab": {
          "base_uri": "https://localhost:8080/",
          "height": 77
        },
        "outputId": "0036c2fb-29f1-4614-f45b-5f63057ba0e9"
      },
      "source": [
        "plot_model(model,show_shapes=True)"
      ],
      "execution_count": null,
      "outputs": [
        {
          "output_type": "execute_result",
          "data": {
            "image/png": "[encoded data removed]",
            "text/plain": [
              "<IPython.core.display.Image object>"
            ]
          },
          "metadata": {
            "tags": []
          },
          "execution_count": 10
        }
      ]
    },
    {
      "cell_type": "code",
      "metadata": {
        "colab": {
          "base_uri": "https://localhost:8080/",
          "height": 163
        },
        "id": "djYYcqKfDiNr",
        "outputId": "f2b27ef1-9d62-454a-8cda-b272f6d20264"
      },
      "source": [
        "model.fit(X_train, y_train, batch_size = 10, epochs=100, validation_split=0.1)"
      ],
      "execution_count": null,
      "outputs": [
        {
          "output_type": "error",
          "ename": "NameError",
          "evalue": "ignored",
          "traceback": [
            "\u001b[0;31m---------------------------------------------------------------------------\u001b[0m",
            "\u001b[0;31mNameError\u001b[0m                                 Traceback (most recent call last)",
            "\u001b[0;32m<ipython-input-1-f94bd845cf78>\u001b[0m in \u001b[0;36m<module>\u001b[0;34m()\u001b[0m\n\u001b[0;32m----> 1\u001b[0;31m \u001b[0mmodel\u001b[0m\u001b[0;34m.\u001b[0m\u001b[0mfit\u001b[0m\u001b[0;34m(\u001b[0m\u001b[0mX_train\u001b[0m\u001b[0;34m,\u001b[0m \u001b[0my_train\u001b[0m\u001b[0;34m,\u001b[0m \u001b[0mbatch_size\u001b[0m \u001b[0;34m=\u001b[0m \u001b[0;36m10\u001b[0m\u001b[0;34m,\u001b[0m \u001b[0mepochs\u001b[0m\u001b[0;34m=\u001b[0m\u001b[0;36m100\u001b[0m\u001b[0;34m,\u001b[0m \u001b[0mvalidation_split\u001b[0m\u001b[0;34m=\u001b[0m\u001b[0;36m0.1\u001b[0m\u001b[0;34m)\u001b[0m\u001b[0;34m\u001b[0m\u001b[0;34m\u001b[0m\u001b[0m\n\u001b[0m",
            "\u001b[0;31mNameError\u001b[0m: name 'model' is not defined"
          ]
        }
      ]
    },
    {
      "cell_type": "code",
      "metadata": {
        "id": "iUVcaoHEF9IK"
      },
      "source": [
        "model.save(data_path/ \"LSTM_512_1000samples\")"
      ],
      "execution_count": null,
      "outputs": []
    },
    {
      "cell_type": "code",
      "metadata": {
        "id": "B8Zqr7-cF6Wx"
      },
      "source": [
        " results=[]\n",
        " for i in range(0,batch_size):\n",
        "   x1=X[i,:,:].reshape(1, t, num_encoder_tokens)\n",
        "   dec = model.predict(x1)\n",
        "   results.append(dec)"
      ],
      "execution_count": null,
      "outputs": []
    },
    {
      "cell_type": "code",
      "metadata": {
        "id": "FEy7yecKg32_"
      },
      "source": [
        "from sklearn.metrics import accuracy_score\n",
        "from sklearn.metrics import precision_score\n",
        "from sklearn.metrics import recall_score\n",
        "from sklearn.metrics import f1_score\n",
        "threshold=0.5\n",
        "Ap=[]\n",
        "Pp=[]\n",
        "Rp=[]\n",
        "F1p=[]\n",
        "Ad=[]\n",
        "Pd=[]\n",
        "Rd=[]\n",
        "F1d=[]\n",
        "import tensorflow as tf\n",
        "Accuracy=[]\n",
        "for i in range(0,batch_size):\n",
        "    dec=results[i]\n",
        "    dec2 = np.where(dec > threshold, 1, 0)\n",
        "    yp=y[i,:,0].reshape(t)\n",
        "    predp=dec2[:,:,0].reshape(t)\n",
        "    yd=y[i,:,1].reshape(t)\n",
        "    predd=dec2[:,:,1].reshape(t)\n",
        "# accuracy: (tp + tn) / (p + n)\n",
        "    accuracyp = accuracy_score(yp, predp)\n",
        "    Ap.append(accuracyp)\n",
        "    accuracyd = accuracy_score(yd, predd)\n",
        "    Ad.append(accuracyd)\n",
        "# precision tp / (tp + fp)\n",
        "    precisionp = precision_score(yp, predp)\n",
        "    Pp.append(precisionp)\n",
        "    precisiond = precision_score(yd, predd)\n",
        "    Pd.append(precisiond)\n",
        "# recall: tp / (tp + fn)\n",
        "    recallp = recall_score(yp, predp)\n",
        "    Rp.append(recallp)\n",
        "    recalld = recall_score(yd, predd)\n",
        "    Rd.append(recalld)\n",
        "\n",
        "# f1: 2 tp / (2 tp + fp + fn)\n",
        "    f1p = f1_score(yp, predp)\n",
        "    F1p.append(f1p)\n",
        "    f1d = f1_score(yd, predd)\n",
        "    F1d.append(f1d)\n",
        "\n",
        "\n",
        "\n"
      ],
      "execution_count": null,
      "outputs": []
    },
    {
      "cell_type": "code",
      "metadata": {
        "id": "n4jtGzZAT9Hx"
      },
      "source": [
        "print(\"petitioner\")\n",
        "print(\"\\nTraining set results: \")\n",
        "print(\"accuracy :\",sum(Ap[0:m1])/len(Ap[0:m1]))\n",
        "print(\"precision :\",sum(Pp[0:m1])/len(Pp[0:m1]))\n",
        "print(\"recall :\",sum(Rp[0:m1])/len(Rp[0:m1]))\n",
        "print(\"f1 :\",sum(F1p[0:m1])/len(F1p[0:m1]))\n",
        "print(\"\\nTest set results: \")\n",
        "print(\"accuracy :\",sum(Ap[m:batch_size])/len(Ap[m:batch_size]))\n",
        "print(\"precision :\",sum(Pp[m:batch_size])/len(Pp[m:batch_size]))\n",
        "print(\"recall :\",sum(Rp[m:batch_size])/len(Rp[m:batch_size]))\n",
        "print(\"f1 :\",sum(F1p[m:batch_size])/len(F1p[m:batch_size]))\n",
        "\n",
        "print(\"\\ndefendant\")\n",
        "print(\"\\nTraining set results: \")\n",
        "print(\"accuracy :\",sum(Ad[0:m1])/len(Ad[0:m1]))\n",
        "print(\"precision :\",sum(Pd[0:m1])/len(Pd[0:m1]))\n",
        "print(\"recall :\",sum(Rd[0:m1])/len(Rd[0:m1]))\n",
        "print(\"f1 :\",sum(F1d[0:m1])/len(F1d[0:m1]))\n",
        "print(\"\\nTest set results: \")\n",
        "print(\"accuracy :\",sum(Ad[m:batch_size])/len(Ad[m:batch_size]))\n",
        "print(\"precision :\",sum(Pd[m:batch_size])/len(Pd[m:batch_size]))\n",
        "print(\"recall :\",sum(Rd[m:batch_size])/len(Rd[m:batch_size]))\n",
        "print(\"f1 :\",sum(F1d[m:batch_size])/len(F1d[m:batch_size]))\n",
        "\n",
        "\n",
        "\n",
        "\n",
        "\n"
      ],
      "execution_count": null,
      "outputs": []
    }
  ]
}